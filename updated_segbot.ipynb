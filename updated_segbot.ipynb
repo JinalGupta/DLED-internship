{
  "nbformat": 4,
  "nbformat_minor": 0,
  "metadata": {
    "colab": {
      "provenance": [],
      "collapsed_sections": [
        "x9o9XayXHLBy",
        "lfsd9hpeHPnB"
      ]
    },
    "kernelspec": {
      "name": "python3",
      "display_name": "Python 3"
    },
    "language_info": {
      "name": "python"
    }
  },
  "cells": [
    {
      "cell_type": "code",
      "source": [
        "pip install yt-dlp"
      ],
      "metadata": {
        "id": "b9XOauVhHnIR"
      },
      "execution_count": null,
      "outputs": []
    },
    {
      "cell_type": "markdown",
      "source": [
        "# Video to Audio generation"
      ],
      "metadata": {
        "id": "85t_UJGDAbRO"
      }
    },
    {
      "cell_type": "code",
      "source": [
        "import yt_dlp\n",
        "\n",
        "def download_audio(video_url):\n",
        "    ydl_opts = {\n",
        "    'format': 'bestaudio/best',\n",
        "    'outtmpl': '/content/audio.mp3',\n",
        "    'cookiefile': '/content/cookies.txt',  # Update this path\n",
        "    'postprocessors': [{\n",
        "        'key': 'FFmpegExtractAudio',\n",
        "        'preferredcodec': 'mp3',\n",
        "        'preferredquality': '192',\n",
        "    }],\n",
        "  }\n",
        "\n",
        "    with yt_dlp.YoutubeDL(ydl_opts) as ydl:\n",
        "        ydl.download([video_url])\n",
        "\n",
        "    return \"/content/audio.mp3\"\n",
        "\n",
        "video_url = input(\"Enter YouTube video URL: \")\n",
        "file_path = download_audio(video_url)\n",
        "print(f\"Downloaded audio: {file_path}\")"
      ],
      "metadata": {
        "id": "B9uXJI0MHYkk"
      },
      "execution_count": null,
      "outputs": []
    },
    {
      "cell_type": "code",
      "source": [
        "import os\n",
        "\n",
        "# Check the files in /content directory\n",
        "print(\"Files in content:\", os.listdir(\"/content\"))\n",
        "\n",
        "# Fix the file name if needed\n",
        "old_path = \"/content/audio.mp3.mp3\"\n",
        "new_path = \"/content/audio.mp3\"\n",
        "\n",
        "if os.path.exists(old_path):\n",
        "    os.rename(old_path, new_path)\n",
        "    print(f\"Renamed: {old_path} → {new_path}\")\n",
        "else:\n",
        "    print(\"Audio file not found!\")"
      ],
      "metadata": {
        "id": "fR2r6rzBHdBR"
      },
      "execution_count": null,
      "outputs": []
    },
    {
      "cell_type": "code",
      "source": [
        "import IPython.display as ipd\n",
        "\n",
        "# Set the correct file path\n",
        "audio_path = \"/content/audio.mp3\"\n",
        "\n",
        "# Play the audio with the correct sample rate (e.g., 44100 Hz)\n",
        "ipd.Audio(audio_path, rate=44100)"
      ],
      "metadata": {
        "id": "zzrZtfJcHgoy"
      },
      "execution_count": null,
      "outputs": []
    },
    {
      "cell_type": "markdown",
      "source": [
        "# Audio to Transcript Generation"
      ],
      "metadata": {
        "id": "x9o9XayXHLBy"
      }
    },
    {
      "cell_type": "code",
      "execution_count": null,
      "metadata": {
        "id": "5C4w8kQqu8Zs"
      },
      "outputs": [],
      "source": [
        "!pip install openai-whisper"
      ]
    },
    {
      "cell_type": "code",
      "source": [
        "import whisper\n",
        "\n",
        "# Load audio and transcribe\n",
        "model = whisper.load_model(\"base\")  # You can try \"medium\" or \"large\" for better accuracy\n",
        "result = model.transcribe(\"/content/audio.mp3\", word_timestamps=False)\n",
        "\n",
        "# Extract sentences with timestamps\n",
        "segments = result[\"segments\"]\n",
        "\n",
        "# Save sentence-level transcript\n",
        "with open(\"/content/sentence_timestamps.txt\", \"w\") as f:\n",
        "    for seg in segments:\n",
        "        start_time = seg['start']\n",
        "        end_time = seg['end']\n",
        "        text = seg['text'].strip()\n",
        "        f.write(f\"{start_time:.2f} --> {end_time:.2f}\\n{text}\\n\\n\")"
      ],
      "metadata": {
        "id": "t4Z0gdV801hz"
      },
      "execution_count": null,
      "outputs": []
    },
    {
      "cell_type": "markdown",
      "source": [
        "# Segmenting Transcripts (Using Segbot model)"
      ],
      "metadata": {
        "id": "lfsd9hpeHPnB"
      }
    },
    {
      "cell_type": "code",
      "source": [
        "import torch\n",
        "import torch.nn as nn\n",
        "import torch.nn.functional as F\n",
        "import spacy\n",
        "import numpy as np\n",
        "import random\n",
        "from scipy.signal import find_peaks\n",
        "\n",
        "# Set random seed for reproducibility\n",
        "SEED = 42\n",
        "random.seed(SEED)\n",
        "np.random.seed(SEED)\n",
        "torch.manual_seed(SEED)\n",
        "torch.cuda.manual_seed_all(SEED)\n",
        "\n",
        "# Load spaCy tokenizer\n",
        "nlp = spacy.load(\"en_core_web_sm\")\n",
        "\n",
        "def load_text_file(file_path):\n",
        "    \"\"\"Load transcript with sentence-level timestamps.\"\"\"\n",
        "    sentences = []\n",
        "    timestamps = []\n",
        "\n",
        "    with open(file_path, 'r', encoding='utf-8') as f:\n",
        "        lines = f.readlines()\n",
        "\n",
        "    for i in range(0, len(lines), 3):\n",
        "      if i + 1 >= len(lines):  # Skip if not enough lines left\n",
        "          continue\n",
        "\n",
        "      time_range = lines[i].strip().split(\" --> \")\n",
        "\n",
        "      # Skip invalid time ranges\n",
        "      if len(time_range) != 2:\n",
        "          continue\n",
        "\n",
        "      try:\n",
        "          start_time = float(time_range[0])\n",
        "          end_time = float(time_range[1])\n",
        "      except ValueError:\n",
        "          continue\n",
        "\n",
        "      text = lines[i + 1].strip()\n",
        "\n",
        "      if text:  # Only add if text is not empty\n",
        "          sentences.append(text)\n",
        "          timestamps.append((start_time, end_time))\n",
        "\n",
        "    tokens = [token.text for sent in sentences for token in nlp(sent)]\n",
        "    return sentences, tokens, timestamps\n",
        "\n",
        "\n",
        "class Encoder(nn.Module):\n",
        "    def __init__(self, input_dim, hidden_dim):\n",
        "        super(Encoder, self).__init__()\n",
        "        self.hidden_dim = hidden_dim\n",
        "        self.bigru = nn.GRU(input_dim, hidden_dim, bidirectional=True, batch_first=True)\n",
        "\n",
        "    def forward(self, x):\n",
        "        h, _ = self.bigru(x)\n",
        "        return h  # h ∈ R^(N × 2H)\n",
        "\n",
        "\n",
        "class Decoder(nn.Module):\n",
        "    def __init__(self, hidden_dim):\n",
        "        super(Decoder, self).__init__()\n",
        "        self.hidden_dim = hidden_dim\n",
        "        self.gru = nn.GRU(hidden_dim * 2, hidden_dim, batch_first=True)\n",
        "\n",
        "    def forward(self, x, hidden_state):\n",
        "        d, hidden_state = self.gru(x, hidden_state)\n",
        "        return d, hidden_state\n",
        "\n",
        "\n",
        "class Pointer(nn.Module):\n",
        "    def __init__(self, encoder_hidden_dim, decoder_hidden_dim):\n",
        "        super(Pointer, self).__init__()\n",
        "        self.W1 = nn.Linear(encoder_hidden_dim, decoder_hidden_dim)\n",
        "        self.W2 = nn.Linear(decoder_hidden_dim, decoder_hidden_dim)\n",
        "        self.v = nn.Linear(decoder_hidden_dim, 1, bias=False)\n",
        "\n",
        "    def forward(self, encoder_outputs, decoder_state):\n",
        "        scores = self.v(torch.tanh(self.W1(encoder_outputs) + self.W2(decoder_state)))\n",
        "        attention_weights = F.softmax(scores, dim=1)\n",
        "        return attention_weights\n",
        "\n",
        "\n",
        "class SEGBOT(nn.Module):\n",
        "    def __init__(self, input_dim, hidden_dim):\n",
        "        super(SEGBOT, self).__init__()\n",
        "        self.encoder = Encoder(input_dim, hidden_dim)\n",
        "        self.decoder = Decoder(hidden_dim)\n",
        "        self.pointer = Pointer(hidden_dim * 2, hidden_dim)\n",
        "\n",
        "    def forward(self, x, start_units):\n",
        "        encoder_outputs = self.encoder(x)\n",
        "        decoder_hidden = torch.zeros(1, x.size(0), self.decoder.hidden_dim).to(x.device)\n",
        "        decoder_inputs = encoder_outputs[:, start_units, :].unsqueeze(1)\n",
        "        decoder_outputs, _ = self.decoder(decoder_inputs, decoder_hidden)\n",
        "        attention_weights = self.pointer(encoder_outputs, decoder_outputs.squeeze(1))\n",
        "        return attention_weights\n",
        "\n",
        "    def segment_text(self, sentences, tokens, timestamps, attention_weights):\n",
        "        \"\"\"Segment text and get start/end timestamps.\"\"\"\n",
        "        attention_weights = attention_weights.squeeze().detach().cpu().numpy()\n",
        "\n",
        "        # Normalize attention weights\n",
        "        attention_weights = (attention_weights - np.min(attention_weights)) / (\n",
        "            np.max(attention_weights) - np.min(attention_weights)\n",
        "        )\n",
        "\n",
        "        # Find peaks in attention scores\n",
        "        peak_indices, _ = find_peaks(attention_weights, height=0.5, distance=5)\n",
        "\n",
        "        if len(peak_indices) == 0:\n",
        "            return [{\"text\": \" \".join(sentences), \"start_time\": timestamps[0][0], \"end_time\": timestamps[-1][1]}]\n",
        "\n",
        "        segments = []\n",
        "        start_idx = 0\n",
        "        for i in peak_indices:\n",
        "          if i > 0 and i - start_idx >= 5:  # Ensure valid range and at least 5 sentences per segment\n",
        "              segment_text = \" \".join(sentences[start_idx:i]).strip()\n",
        "\n",
        "              if segment_text:\n",
        "                  start_time = timestamps[start_idx][0]\n",
        "\n",
        "                  # Check if `i - 1` is within range to prevent out-of-bounds error\n",
        "                  if i - 1 < len(timestamps):\n",
        "                      end_time = timestamps[i - 1][1]\n",
        "                  else:\n",
        "                      end_time = timestamps[-1][1]  # Fallback to the last timestamp\n",
        "\n",
        "                  segments.append({\"text\": segment_text, \"start_time\": start_time, \"end_time\": end_time})\n",
        "\n",
        "              start_idx = i\n",
        "\n",
        "\n",
        "        # Add last segment\n",
        "        last_segment = \" \".join(sentences[start_idx:]).strip()\n",
        "        if last_segment:\n",
        "            start_time = timestamps[start_idx][0]\n",
        "            end_time = timestamps[-1][1]\n",
        "            segments.append({\"text\": last_segment, \"start_time\": start_time, \"end_time\": end_time})\n",
        "\n",
        "        return segments if segments else None\n",
        "\n",
        "\n",
        "# Model Hyperparameters\n",
        "input_dim = 128  # Example input size\n",
        "hidden_dim = 256  # Hidden layer size\n",
        "model = SEGBOT(input_dim, hidden_dim)\n",
        "\n",
        "# Load text file and process with sentence-level timestamps\n",
        "file_path = \"/content/sentence_timestamps.txt\"  # Ensure sentence-level transcript format\n",
        "sentences, tokens, timestamps = load_text_file(file_path)\n",
        "\n",
        "# Example Input (Dummy Tensor)\n",
        "x = torch.randn(1, len(tokens), input_dim)  # Batch size of 1, sequence length based on text\n",
        "start_units = 0\n",
        "output = model(x, start_units)\n",
        "\n",
        "# Segment the text and get timestamps\n",
        "segments = model.segment_text(sentences, tokens, timestamps, output)\n",
        "\n",
        "# Save segmented transcript with timestamps\n",
        "if segments:\n",
        "    with open(\"segmented_transcript_with_timestamps.txt\", \"w\", encoding=\"utf-8\") as f:\n",
        "        for i, segment in enumerate(segments):\n",
        "            start_time = segment[\"start_time\"]\n",
        "            end_time = segment[\"end_time\"]\n",
        "            text = segment[\"text\"]\n",
        "            f.write(f\"Segment {i+1} [{start_time:.2f}s - {end_time:.2f}s]:\\n{text}\\n\\n\")\n",
        "    print(\"Segmented transcript with timestamps saved successfully.\")\n",
        "else:\n",
        "    print(\"No valid segments found. Terminating execution.\")\n"
      ],
      "metadata": {
        "id": "TYOlN3ylAMxh"
      },
      "execution_count": null,
      "outputs": []
    }
  ]
}